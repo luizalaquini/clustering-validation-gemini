{
 "cells": [
  {
   "cell_type": "markdown",
   "metadata": {},
   "source": [
    "# Validando a Clusterização do Gemini"
   ]
  },
  {
   "cell_type": "markdown",
   "metadata": {},
   "source": [
    "Validando via código os resultados da Clusterização feita pelo Gemini em dados de rotatividade de funcionários cujos resultados foram compartilhados no meu [artigo publicado no Medium](https://medium.com/@luizalaquini/ci%C3%AAncia-de-dados-sem-c%C3%B3digo-um-exemplo-de-clusteriza%C3%A7%C3%A3o-por-ia-generativa-dee5f7224cc2).\n",
    "\n",
    "**Por:** Luiza Batista Laquini"
   ]
  },
  {
   "cell_type": "code",
   "execution_count": null,
   "metadata": {},
   "outputs": [],
   "source": []
  }
 ],
 "metadata": {
  "language_info": {
   "name": "python"
  }
 },
 "nbformat": 4,
 "nbformat_minor": 2
}
